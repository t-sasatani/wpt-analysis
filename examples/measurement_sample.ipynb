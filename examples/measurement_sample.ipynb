{
 "cells": [
  {
   "cell_type": "code",
   "execution_count": null,
   "metadata": {},
   "outputs": [],
   "source": [
    "from wpt_tools import wpt_eval\n",
    "import importlib\n",
    "importlib.reload(wpt_tools)"
   ]
  },
  {
   "attachments": {},
   "cell_type": "markdown",
   "metadata": {},
   "source": [
    "### Create instance of analysis and set initial variables"
   ]
  },
  {
   "cell_type": "code",
   "execution_count": null,
   "metadata": {},
   "outputs": [],
   "source": [
    "wpt_eval_ins = wpt_eval.wpt_eval()\n",
    "rx_port = 1 # 1 or 2"
   ]
  },
  {
   "attachments": {},
   "cell_type": "markdown",
   "metadata": {},
   "source": [
    "### Import 2-port network data\n",
    "options\n",
    "- 'file' option: import touchstone file\n",
    "- 'measure_pico' option: measure using picovna\n",
    "    - parameters need to match cal file"
   ]
  },
  {
   "cell_type": "code",
   "execution_count": null,
   "metadata": {},
   "outputs": [],
   "source": [
    "mode = 'file'\n",
    "#mode = 'measure_pico'\n",
    "\n",
    "if mode == 'file':\n",
    "    #wpt_eval_ins.import_touchstone()\n",
    "    wpt_eval_ins.import_touchstone('./assets/100mmTX_20mmRX_40mmD-1.s2p')\n",
    "\n",
    "if mode == 'measure_pico':\n",
    "    # vna registry setting (it's either of these two)\n",
    "    progid = \"PicoControl2.PicoVNA_2\"\n",
    "    # progid = \"PicoControl3.PicoVNA_3\"\n",
    "\n",
    "    # Export setting\n",
    "    touchstone_export = 'export_touchstone/test'\n",
    "\n",
    "    # Need to match calibration setup\n",
    "    cal_file = '../sample_cal/1_to_10MHz.cal'\n",
    "    start_f = 1e6 #[Hz]\n",
    "    end_f = 10e6 #[Hz]\n",
    "    sweep_points = 1001\n",
    "    power_level = -10 #[dBm]\n",
    "    RBW = 1e3 #[Hz]\n",
    "    z0 = 50\n",
    "\n",
    "    wpt_eval_ins.picoVNA_measure(cal_file=cal_file, start_f=start_f, end_f=end_f,\\\n",
    "        sweep_points=sweep_points, power_level=power_level, RBW=RBW, z0=z0, progid=progid)\n",
    "\n",
    "    wpt_eval_ins.export_touchstone(touchstone_export)"
   ]
  },
  {
   "cell_type": "markdown",
   "metadata": {},
   "source": [
    "### Plot Z-parameters (full-range)"
   ]
  },
  {
   "cell_type": "code",
   "execution_count": null,
   "metadata": {},
   "outputs": [],
   "source": [
    "wpt_eval_ins.plot_z_full()"
   ]
  },
  {
   "cell_type": "markdown",
   "metadata": {},
   "source": [
    "### Efficiency and optimal load analysis (for general 2-port networks)\n",
    "Reference: Y. Narusue, et al., \"Load optimization factors for analyzing the efficiency of wireless power transfer systems using two-port network parameters,\" IEICE ELEX, 2020.\n",
    "\n",
    "Unstable when far from resonant frequency (probably because to S to Z conversion becomes unstable)"
   ]
  },
  {
   "cell_type": "code",
   "execution_count": null,
   "metadata": {},
   "outputs": [],
   "source": [
    "# For maximum efficiency analysis\n",
    "target_f = 6.78e6\n",
    "range_f = 1e6\n",
    "\n",
    "wpt_eval_ins.set_f_target_range(target_f=target_f, range_f=range_f)\n",
    "f_opt, eff_opt, r_opt, x_opt = wpt_eval_ins.efficiency_load_analysis(show_plot=1, rx_port=rx_port)"
   ]
  },
  {
   "cell_type": "markdown",
   "metadata": {},
   "source": [
    "### Curve-fitting and Z-matrix plot (only for 2-port measurement of Series-Series LCR coupling)"
   ]
  },
  {
   "cell_type": "code",
   "execution_count": null,
   "metadata": {},
   "outputs": [],
   "source": [
    "# For maximum efficiency analysis\n",
    "target_f = 6.78e6\n",
    "range_f = 1e6\n",
    "\n",
    "wpt_eval_ins.set_f_target_range(target_f=target_f, range_f=range_f)\n",
    "wpt_eval_ins.plot_z_narrow_fit()"
   ]
  },
  {
   "cell_type": "markdown",
   "metadata": {},
   "source": [
    "### Optimal load visualization\n",
    "Imura, \"Wireless Power Transfer: Using Magnetic and Electric Resonance Coupling Techniques,\" Springer Singapore 2020."
   ]
  },
  {
   "cell_type": "code",
   "execution_count": null,
   "metadata": {},
   "outputs": [],
   "source": [
    "wpt_eval_ins.optimal_load_plot(min_rez=0.1, max_rez=50, step_rez=0.2,\\\n",
    "    min_imz=-200, max_imz=200, step_imz=1, input_voltage=5, rx_port=rx_port)"
   ]
  },
  {
   "attachments": {},
   "cell_type": "markdown",
   "metadata": {},
   "source": [
    "### Capacitor filter calculator\n",
    "![](./img/CpCsRltopology.png)"
   ]
  },
  {
   "cell_type": "code",
   "execution_count": null,
   "metadata": {},
   "outputs": [],
   "source": [
    "wpt_eval_ins.set_f_target_range(target_f=target_f, range_f=range_f)\n",
    "wpt_eval_ins.rxc_filter_calc(rx_port = rx_port, rload = 100, c_network = 'CpCsRl')"
   ]
  }
 ],
 "metadata": {
  "kernelspec": {
   "display_name": "Python 3 (ipykernel)",
   "language": "python",
   "name": "python3"
  },
  "language_info": {
   "codemirror_mode": {
    "name": "ipython",
    "version": 3
   },
   "file_extension": ".py",
   "mimetype": "text/x-python",
   "name": "python",
   "nbconvert_exporter": "python",
   "pygments_lexer": "ipython3",
   "version": "3.11.6"
  },
  "vscode": {
   "interpreter": {
    "hash": "9ccd5458fc33bb6d077e1c7f513a6ce0308ab02689be9e5f2e0b4a8e29b063bc"
   }
  }
 },
 "nbformat": 4,
 "nbformat_minor": 2
}
