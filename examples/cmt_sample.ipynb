{
 "cells": [
  {
   "cell_type": "code",
   "execution_count": 1,
   "metadata": {},
   "outputs": [],
   "source": [
    "import wpt_tools"
   ]
  },
  {
   "cell_type": "code",
   "execution_count": 2,
   "metadata": {},
   "outputs": [
    {
     "data": {
      "text/plain": [
       "<module 'wpt_tools' from '/Users/takuyasasatani/Documents/GitHub/wpt_tools/wpt_tools/__init__.py'>"
      ]
     },
     "execution_count": 2,
     "metadata": {},
     "output_type": "execute_result"
    }
   ],
   "source": [
    "import importlib\n",
    "importlib.reload(wpt_tools)"
   ]
  },
  {
   "cell_type": "code",
   "execution_count": 3,
   "metadata": {},
   "outputs": [],
   "source": [
    "from wpt_tools import analysis\n",
    "import scipy.constants as const\n"
   ]
  },
  {
   "cell_type": "code",
   "execution_count": 10,
   "metadata": {},
   "outputs": [
    {
     "name": "stdout",
     "output_type": "stream",
     "text": [
      "0.3646837526924987\n"
     ]
    }
   ],
   "source": [
    "freq = 6.78e6\n",
    "mag_energy = 1.75e-6\n",
    "mag_amp = 2\n",
    "rx_angle = 0\n",
    "\n",
    "# 0.7 cm radius 6 turn\n",
    "rx_area = const.pi * 0.07 ** 2\n",
    "rx_ind = 2.42e-6\n",
    "\n",
    "tx_q = 600\n",
    "rx_q = 20\n",
    "\n",
    "cmt_inst = analysis.asym_cmt_analysis()\n",
    "gmax = cmt_inst.cmt_gmax(freq=freq, mag_energy=mag_energy, mag_amp=mag_amp, rx_angle=rx_angle, rx_area=rx_area, rx_ind=rx_ind, tx_q=tx_q, rx_q=rx_q)\n",
    "print(gmax)"
   ]
  },
  {
   "cell_type": "code",
   "execution_count": null,
   "metadata": {},
   "outputs": [],
   "source": []
  }
 ],
 "metadata": {
  "kernelspec": {
   "display_name": "Python 3 (ipykernel)",
   "language": "python",
   "name": "python3"
  },
  "language_info": {
   "codemirror_mode": {
    "name": "ipython",
    "version": 3
   },
   "file_extension": ".py",
   "mimetype": "text/x-python",
   "name": "python",
   "nbconvert_exporter": "python",
   "pygments_lexer": "ipython3",
   "version": "3.9.7"
  },
  "vscode": {
   "interpreter": {
    "hash": "9ccd5458fc33bb6d077e1c7f513a6ce0308ab02689be9e5f2e0b4a8e29b063bc"
   }
  }
 },
 "nbformat": 4,
 "nbformat_minor": 2
}
